{
 "cells": [
  {
   "cell_type": "code",
   "execution_count": 11,
   "metadata": {},
   "outputs": [
    {
     "data": {
      "text/plain": [
       "'2.1.0'"
      ]
     },
     "execution_count": 11,
     "metadata": {},
     "output_type": "execute_result"
    }
   ],
   "source": [
    "import tensorflow as tf\n",
    "tf.__version__"
   ]
  },
  {
   "cell_type": "code",
   "execution_count": 2,
   "metadata": {},
   "outputs": [
    {
     "name": "stderr",
     "output_type": "stream",
     "text": [
      "Using TensorFlow backend.\n"
     ]
    },
    {
     "data": {
      "text/plain": [
       "'2.3.1'"
      ]
     },
     "execution_count": 2,
     "metadata": {},
     "output_type": "execute_result"
    }
   ],
   "source": [
    "import keras\n",
    "keras.__version__"
   ]
  },
  {
   "cell_type": "code",
   "execution_count": 3,
   "metadata": {},
   "outputs": [
    {
     "data": {
      "text/plain": [
       "'C:\\\\Users\\\\Shaek'"
      ]
     },
     "execution_count": 3,
     "metadata": {},
     "output_type": "execute_result"
    }
   ],
   "source": [
    "import os\n",
    "os.getcwd()"
   ]
  },
  {
   "cell_type": "code",
   "execution_count": 13,
   "metadata": {},
   "outputs": [],
   "source": [
    "from keras.models import Sequential\n",
    "from keras.layers import Convolution2D\n",
    "from keras.layers import Conv2D, MaxPooling2D\n",
    "from keras.layers import Flatten\n",
    "from keras.layers import Dense\n",
    "\n"
   ]
  },
  {
   "cell_type": "code",
   "execution_count": 14,
   "metadata": {},
   "outputs": [],
   "source": [
    "#import tensorflow.compat.v1 as tf\n",
    "#tf.disable_v2_behavior() \n",
    "\n",
    "# Initialising the CNN\n",
    "classifier = Sequential() #object of class sequential.\n",
    "\n",
    "# Step 1 - Convolution\n",
    "classifier.add(Conv2D(32, (3, 3), input_shape = (160, 160, 3), activation = 'relu'))\n",
    "#(32-no of filters/feature map, no of rows & col of feature detector matrix,I_shape=3-no of channel\n",
    "#colour image, 64*64 format for image converstion, )\n",
    "\n",
    "# Step 2 - Pooling\n",
    "classifier.add(MaxPooling2D(pool_size = (2, 2)))\n",
    "# to reduce no. of nodes in flattening, 2,2 to size the mat that slides over.\n",
    "# Adding a second convolutional layer\n",
    "classifier.add(Conv2D(32, (3, 3), activation = 'relu'))\n",
    "classifier.add(MaxPooling2D(pool_size = (2, 2)))\n",
    "\n",
    "# Step 3 - Flattening\n",
    "classifier.add(Flatten())\n",
    "\n",
    "# Step 4 - Full connection\n",
    "classifier.add(Dense(activation=\"relu\", units=128)) #rectifier A FN for input/hidden layer.\n",
    "classifier.add(Dense(activation=\"sigmoid\", units=1)) #sigmoid layer."
   ]
  },
  {
   "cell_type": "code",
   "execution_count": 15,
   "metadata": {},
   "outputs": [],
   "source": [
    "#classifier.add(Dense())\n",
    "# Compiling the CNN\n",
    "classifier.compile(optimizer = 'adam', loss = 'binary_crossentropy', metrics = ['accuracy'])"
   ]
  },
  {
   "cell_type": "code",
   "execution_count": null,
   "metadata": {},
   "outputs": [],
   "source": [
    "# Saving all improved checkpoints\n",
    "filepath=\"weights-improvement-{epoch:02d}-{val_accuracy:.2f}.hdf5\"\n",
    "checkpoint = ModelCheckpoint(filepath, monitor='val_accuracy', verbose=1, save_best_only=True, mode='max')\n",
    "callbacks_list = [checkpoint]"
   ]
  },
  {
   "cell_type": "code",
   "execution_count": null,
   "metadata": {},
   "outputs": [],
   "source": [
    "# Saving the best checkpoint\n",
    "filepath=\"weights.best.hdf5\"\n",
    "checkpoint = ModelCheckpoint(filepath, monitor='val_accuracy', verbose=1, save_best_only=True, mode='max')\n",
    "callbacks_list = [checkpoint]"
   ]
  },
  {
   "cell_type": "code",
   "execution_count": 19,
   "metadata": {},
   "outputs": [
    {
     "name": "stdout",
     "output_type": "stream",
     "text": [
      "Found 263 images belonging to 2 classes.\n",
      "Found 85 images belonging to 2 classes.\n"
     ]
    }
   ],
   "source": [
    "# Part 2 - Fitting the CNN to the images\n",
    "\n",
    "from keras.preprocessing.image import ImageDataGenerator\n",
    "\n",
    "train_datagen = ImageDataGenerator(rescale = 1./255,\n",
    "                                   shear_range = 0.2,\n",
    "                                   zoom_range = 0.2,\n",
    "                                   horizontal_flip = True)\n",
    "\n",
    "test_datagen = ImageDataGenerator(rescale = 1./255)\n",
    "\n",
    "training_set = train_datagen.flow_from_directory('training_set',\n",
    "                                                 target_size = (160, 160),\n",
    "                                                 batch_size = 32,\n",
    "                                                 class_mode = 'binary')\n",
    "\n",
    "test_set = test_datagen.flow_from_directory('test_set',\n",
    "                                            target_size = (160, 160),\n",
    "                                            batch_size = 32,\n",
    "                                            class_mode = 'binary')\n",
    "\n"
   ]
  },
  {
   "cell_type": "code",
   "execution_count": 20,
   "metadata": {},
   "outputs": [
    {
     "name": "stdout",
     "output_type": "stream",
     "text": [
      "Epoch 1/20\n",
      "500/500 [==============================] - 264s 528ms/step - loss: 2.2176e-04 - accuracy: 1.0000 - val_loss: 0.0425 - val_accuracy: 0.9519\n",
      "Epoch 2/20\n",
      "500/500 [==============================] - 282s 563ms/step - loss: 7.9172e-05 - accuracy: 1.0000 - val_loss: 0.9307 - val_accuracy: 0.9535\n",
      "Epoch 3/20\n",
      "500/500 [==============================] - 283s 566ms/step - loss: 3.3083e-05 - accuracy: 1.0000 - val_loss: 2.2185e-04 - val_accuracy: 0.9657\n",
      "Epoch 4/20\n",
      "500/500 [==============================] - 287s 574ms/step - loss: 2.4601e-05 - accuracy: 1.0000 - val_loss: 0.0898 - val_accuracy: 0.9650\n",
      "Epoch 5/20\n",
      "500/500 [==============================] - 317s 635ms/step - loss: 0.0192 - accuracy: 0.9945 - val_loss: 0.5467 - val_accuracy: 0.8261\n",
      "Epoch 6/20\n",
      "500/500 [==============================] - 302s 604ms/step - loss: 0.0262 - accuracy: 0.9910 - val_loss: 0.0762 - val_accuracy: 0.9524\n",
      "Epoch 7/20\n",
      "500/500 [==============================] - 288s 575ms/step - loss: 0.0010 - accuracy: 0.9998 - val_loss: 0.6908 - val_accuracy: 0.9650\n",
      "Epoch 8/20\n",
      "500/500 [==============================] - 287s 574ms/step - loss: 7.7358e-05 - accuracy: 1.0000 - val_loss: 0.3580 - val_accuracy: 0.9646\n",
      "Epoch 9/20\n",
      "500/500 [==============================] - 286s 572ms/step - loss: 4.7700e-05 - accuracy: 1.0000 - val_loss: 0.6210 - val_accuracy: 0.9767\n",
      "Epoch 10/20\n",
      "500/500 [==============================] - 287s 575ms/step - loss: 2.3016e-05 - accuracy: 1.0000 - val_loss: 0.0117 - val_accuracy: 0.9781\n",
      "Epoch 11/20\n",
      "500/500 [==============================] - 287s 574ms/step - loss: 1.6730e-05 - accuracy: 1.0000 - val_loss: 3.3016e-05 - val_accuracy: 0.9756\n",
      "Epoch 12/20\n",
      "500/500 [==============================] - 286s 572ms/step - loss: 1.6802e-05 - accuracy: 1.0000 - val_loss: 1.1573 - val_accuracy: 0.9756\n",
      "Epoch 13/20\n",
      "500/500 [==============================] - 287s 574ms/step - loss: 7.9606e-06 - accuracy: 1.0000 - val_loss: 0.4285 - val_accuracy: 0.9759\n",
      "Epoch 14/20\n",
      "500/500 [==============================] - 286s 571ms/step - loss: 1.1875e-05 - accuracy: 1.0000 - val_loss: 9.7843e-04 - val_accuracy: 0.9779\n",
      "Epoch 15/20\n",
      "500/500 [==============================] - 287s 573ms/step - loss: 8.6470e-06 - accuracy: 1.0000 - val_loss: 0.0020 - val_accuracy: 0.9635\n",
      "Epoch 16/20\n",
      "500/500 [==============================] - 287s 574ms/step - loss: 4.8243e-06 - accuracy: 1.0000 - val_loss: 0.4910 - val_accuracy: 0.9770\n",
      "Epoch 17/20\n",
      "500/500 [==============================] - 11041s 22s/step - loss: 0.0638 - accuracy: 0.9801 - val_loss: 0.5529 - val_accuracy: 0.8937\n",
      "Epoch 18/20\n",
      "500/500 [==============================] - 282s 565ms/step - loss: 0.0067 - accuracy: 0.9981 - val_loss: 0.4705 - val_accuracy: 0.9302\n",
      "Epoch 19/20\n",
      "500/500 [==============================] - 285s 570ms/step - loss: 0.0011 - accuracy: 0.9997 - val_loss: 0.7002 - val_accuracy: 0.9059\n",
      "Epoch 20/20\n",
      "500/500 [==============================] - 288s 576ms/step - loss: 3.3271e-05 - accuracy: 1.0000 - val_loss: 0.6547 - val_accuracy: 0.8937\n"
     ]
    },
    {
     "data": {
      "text/plain": [
       "<keras.callbacks.callbacks.History at 0x15894aa2c48>"
      ]
     },
     "execution_count": 20,
     "metadata": {},
     "output_type": "execute_result"
    }
   ],
   "source": [
    "    classifier.fit_generator(training_set,\n",
    "                             steps_per_epoch = 500,\n",
    "                             epochs = 20,\n",
    "                             validation_data = test_set,\n",
    "                             validation_steps = 32)\n",
    "\n",
    "\n",
    "    "
   ]
  },
  {
   "cell_type": "code",
   "execution_count": 22,
   "metadata": {},
   "outputs": [],
   "source": [
    "classifier.save('C:/Users/Shaek/mtcnn_face_mask.h5')"
   ]
  },
  {
   "cell_type": "markdown",
   "metadata": {},
   "source": [
    "The end"
   ]
  },
  {
   "cell_type": "code",
   "execution_count": null,
   "metadata": {},
   "outputs": [],
   "source": [
    "# load weights\n",
    "model.load_weights(\"weights.best.hdf5\")\n",
    "# Compile model (required to make predictions)\n",
    "model.compile(loss='binary_crossentropy', optimizer='adam', metrics=['accuracy'])\n",
    "print(\"Created model and loaded weights from file\")\n",
    "# load pima indians dataset\n",
    "dataset = numpy.loadtxt(\"pima-indians-diabetes.csv\", delimiter=\",\")\n",
    "# split into input (X) and output (Y) variables\n",
    "X = dataset[:,0:8]\n",
    "Y = dataset[:,8]\n",
    "# estimate accuracy on whole dataset using loaded weights\n",
    "scores = model.evaluate(X, Y, verbose=0)\n",
    "print(\"%s: %.2f%%\" % (model.metrics_names[1], scores[1]*100))"
   ]
  }
 ],
 "metadata": {
  "kernelspec": {
   "display_name": "Python 3",
   "language": "python",
   "name": "python3"
  },
  "language_info": {
   "codemirror_mode": {
    "name": "ipython",
    "version": 3
   },
   "file_extension": ".py",
   "mimetype": "text/x-python",
   "name": "python",
   "nbconvert_exporter": "python",
   "pygments_lexer": "ipython3",
   "version": "3.7.7"
  }
 },
 "nbformat": 4,
 "nbformat_minor": 2
}
